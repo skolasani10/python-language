{
 "cells": [
  {
   "cell_type": "code",
   "execution_count": 1,
   "metadata": {},
   "outputs": [
    {
     "name": "stdout",
     "output_type": "stream",
     "text": [
      "Enter age: 1\n",
      "Enter age: 9\n",
      "Enter age: 66\n",
      "Enter age: \n",
      "Total cost=32.00\n"
     ]
    }
   ],
   "source": [
    "line=input(\"Enter age: \")\n",
    "total=0\n",
    "while line!=\"\":\n",
    "    age=int(line)\n",
    "    if age<=2:\n",
    "        total=total+0.00\n",
    "    elif age>3 and age<12:\n",
    "        total=total+14.00\n",
    "    elif age>=65:\n",
    "        total=total+18.00\n",
    "    else:\n",
    "        total=total+23.00\n",
    "    line=input(\"Enter age: \")\n",
    "print(\"Total cost=%.2f\"%total)"
   ]
  },
  {
   "cell_type": "code",
   "execution_count": 5,
   "metadata": {},
   "outputs": [
    {
     "name": "stdout",
     "output_type": "stream",
     "text": [
      "Enter group of 8 bits: 10011100\n",
      "Parity bit=0\n",
      "Enter group of 8 bits: 11100000\n",
      "Parity bit=1\n",
      "Enter group of 8 bits: \n"
     ]
    }
   ],
   "source": [
    "line=input(\"Enter group of 8 bits: \")\n",
    "while line!=\"\":\n",
    "    bits=str(line)\n",
    "    if len(bits)!=8:\n",
    "        print(\"Try again\")\n",
    "    else:\n",
    "        ones=bits.count(\"1\")\n",
    "        if ones%2==0:\n",
    "            print(\"Parity bit=0\")\n",
    "        else:\n",
    "            print(\"Parity bit=1\")\n",
    "    line=input(\"Enter group of 8 bits: \")\n"
   ]
  },
  {
   "cell_type": "code",
   "execution_count": 7,
   "metadata": {},
   "outputs": [
    {
     "name": "stdout",
     "output_type": "stream",
     "text": [
      "1\n",
      "2\n",
      "fizz\n",
      "4\n",
      "buzz\n",
      "fizz\n",
      "7\n",
      "8\n",
      "fizz\n",
      "buzz\n",
      "11\n",
      "fizz\n",
      "13\n",
      "14\n",
      "fizz and buzz\n",
      "16\n",
      "17\n",
      "fizz\n",
      "19\n",
      "buzz\n"
     ]
    }
   ],
   "source": [
    "for i in range(1,21,1):\n",
    "    if i%3==0 and i%5==0:\n",
    "        print(\"fizz and buzz\")\n",
    "    elif i%3==0:\n",
    "        print(\"fizz\")\n",
    "    elif i%5==0:\n",
    "        print(\"buzz\")\n",
    "    else:\n",
    "        print(i)"
   ]
  },
  {
   "cell_type": "code",
   "execution_count": 18,
   "metadata": {},
   "outputs": [
    {
     "name": "stdout",
     "output_type": "stream",
     "text": [
      "Enter no: 81\n",
      "Enter how many times:3\n",
      "Square root=  9.497456198181656\n"
     ]
    }
   ],
   "source": [
    "x=int(input(\"Enter no: \"))\n",
    "n=int(input(\"Enter how many times:\"))\n",
    "guess=x/2\n",
    "g=abs((guess*guess)-(x))\n",
    "for i in range(n):\n",
    "    if g>10^-12:\n",
    "        ge=(guess+(x/guess))/2\n",
    "        guess=ge\n",
    "print(\"Square root= \",guess)"
   ]
  },
  {
   "cell_type": "code",
   "execution_count": 20,
   "metadata": {},
   "outputs": [
    {
     "name": "stdout",
     "output_type": "stream",
     "text": [
      "Enter sting: anna\n",
      "It is a palindrome\n"
     ]
    }
   ],
   "source": [
    "str=input(\"Enter sting: \")\n",
    "i=0\n",
    "p=True\n",
    "while i<len(str)/2:\n",
    "    if str[i]!=str[len(str)-i-1]:\n",
    "        p=False\n",
    "    i=i+1\n",
    "if p==True:\n",
    "    print(\"It is a palindrome\")\n",
    "else:\n",
    "    print(\"It is not a palindrome\")"
   ]
  },
  {
   "cell_type": "code",
   "execution_count": 25,
   "metadata": {},
   "outputs": [
    {
     "name": "stdout",
     "output_type": "stream",
     "text": [
      "Enter string: flee to me remote elf\n",
      "Palindrome\n"
     ]
    }
   ],
   "source": [
    "str=input(\"Enter string: \")\n",
    "s=str.replace(\" \",'')\n",
    "if s==s[::-1]:\n",
    "    print(\"Palindrome\")\n",
    "else:\n",
    "    print(\"Not a palindrome\")"
   ]
  },
  {
   "cell_type": "code",
   "execution_count": 26,
   "metadata": {},
   "outputs": [
    {
     "name": "stdout",
     "output_type": "stream",
     "text": [
      "Enter no1: 12\n",
      "Enter no2: 4\n",
      "Gcd=  4\n"
     ]
    }
   ],
   "source": [
    "n=int(input(\"Enter no1: \"))\n",
    "m=int(input(\"Enter no2: \"))\n",
    "d=min(n,m)\n",
    "while m%d!=0 or n%d!=0:\n",
    "    d=d-1\n",
    "print(\"Gcd= \",d)"
   ]
  },
  {
   "cell_type": "code",
   "execution_count": 33,
   "metadata": {},
   "outputs": [
    {
     "name": "stdout",
     "output_type": "stream",
     "text": [
      "Enter no: 72\n",
      "Factor=  2\n",
      "Factor=  2\n",
      "Factor=  2\n",
      "Factor=  3\n",
      "Factor=  3\n"
     ]
    }
   ],
   "source": [
    "n=int(input(\"Enter no: \"))\n",
    "factor=2\n",
    "if n<2:\n",
    "    print(\"Error\")\n",
    "else:\n",
    "    while factor<=n:\n",
    "        if n%factor==0:\n",
    "            print(\"Factor= \",factor)\n",
    "            n=n//factor\n",
    "        else:\n",
    "            factor=factor+1\n",
    "            "
   ]
  },
  {
   "cell_type": "code",
   "execution_count": 37,
   "metadata": {},
   "outputs": [
    {
     "name": "stdout",
     "output_type": "stream",
     "text": [
      "Enter binary no: 100\n",
      "['0', '0', '1']\n",
      "Decimal eq=  4\n"
     ]
    }
   ],
   "source": [
    "#Binary to decimal use list\n",
    "n=input(\"Enter binary no: \")\n",
    "l=list(n)\n",
    "l.reverse()\n",
    "print(l)\n",
    "sum=0\n",
    "for i in range(len(l)):\n",
    "    sum=sum+int(l[i])*2**i\n",
    "print(\"Decimal eq= \",sum)"
   ]
  },
  {
   "cell_type": "code",
   "execution_count": 40,
   "metadata": {},
   "outputs": [
    {
     "name": "stdout",
     "output_type": "stream",
     "text": [
      "Enter decimal no: 7\n",
      "111"
     ]
    }
   ],
   "source": [
    "#Decimal to binary use list\n",
    "n=int(input(\"Enter decimal no: \"))\n",
    "l=list()\n",
    "while n!=0:\n",
    "    rem=n%2\n",
    "    l.append(rem)\n",
    "    n=n//2\n",
    "l.reverse()\n",
    "for x in l:\n",
    "    print(x,end=\"\")"
   ]
  },
  {
   "cell_type": "code",
   "execution_count": 41,
   "metadata": {},
   "outputs": [
    {
     "name": "stdout",
     "output_type": "stream",
     "text": [
      "26 Update\n",
      "94 Update\n",
      "48\n",
      "98 Update\n",
      "95\n",
      "90\n",
      "73\n",
      "36\n",
      "87\n",
      "26\n",
      "99 Update\n",
      "79\n",
      "80\n",
      "35\n",
      "49\n",
      "55\n",
      "66\n",
      "77\n",
      "96\n",
      "28\n",
      "85\n",
      "70\n",
      "36\n",
      "46\n",
      "73\n",
      "98\n",
      "27\n",
      "7\n",
      "75\n",
      "65\n",
      "34\n",
      "58\n",
      "37\n",
      "27\n",
      "82\n",
      "81\n",
      "72\n",
      "78\n",
      "83\n",
      "61\n",
      "1\n",
      "76\n",
      "77\n",
      "1\n",
      "50\n",
      "26\n",
      "100 Update\n",
      "78\n",
      "93\n",
      "70\n",
      "91\n",
      "12\n",
      "52\n",
      "51\n",
      "19\n",
      "42\n",
      "19\n",
      "77\n",
      "17\n",
      "45\n",
      "4\n",
      "92\n",
      "91\n",
      "83\n",
      "4\n",
      "36\n",
      "11\n",
      "10\n",
      "57\n",
      "87\n",
      "19\n",
      "91\n",
      "60\n",
      "56\n",
      "76\n",
      "6\n",
      "81\n",
      "16\n",
      "44\n",
      "72\n",
      "88\n",
      "35\n",
      "28\n",
      "12\n",
      "10\n",
      "67\n",
      "54\n",
      "24\n",
      "54\n",
      "36\n",
      "15\n",
      "96\n",
      "14\n",
      "29\n",
      "68\n",
      "1\n",
      "78\n",
      "79\n",
      "40\n",
      "Max value=  100\n",
      "No of times the max value was updated=  5\n"
     ]
    }
   ],
   "source": [
    "from random import randrange\n",
    "mx=randrange(1,101)\n",
    "n_updates=0\n",
    "for i in range(1,100):\n",
    "    current=randrange(1,101)\n",
    "    if current>mx:\n",
    "        mx=current\n",
    "        n_updates+=1\n",
    "        print(current,\"Update\")\n",
    "    else:\n",
    "        print(current)\n",
    "print(\"Max value= \",mx)\n",
    "print(\"No of times the max value was updated= \",n_updates)"
   ]
  },
  {
   "cell_type": "code",
   "execution_count": null,
   "metadata": {},
   "outputs": [],
   "source": []
  }
 ],
 "metadata": {
  "kernelspec": {
   "display_name": "Python 3",
   "language": "python",
   "name": "python3"
  },
  "language_info": {
   "codemirror_mode": {
    "name": "ipython",
    "version": 3
   },
   "file_extension": ".py",
   "mimetype": "text/x-python",
   "name": "python",
   "nbconvert_exporter": "python",
   "pygments_lexer": "ipython3",
   "version": "3.8.3"
  }
 },
 "nbformat": 4,
 "nbformat_minor": 4
}
