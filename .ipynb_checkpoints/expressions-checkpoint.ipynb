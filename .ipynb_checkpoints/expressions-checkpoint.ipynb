{
 "cells": [
  {
   "cell_type": "code",
   "execution_count": 35,
   "metadata": {},
   "outputs": [
    {
     "name": "stdout",
     "output_type": "stream",
     "text": [
      "Sirisha\n",
      "Flat no 304,Avanthika Bhagiratha Apartments,Matrusri Nagar,Miyapur,Hyd.\n"
     ]
    }
   ],
   "source": [
    "print(\"Sirisha\")\n",
    "print(\"Flat no 304,Avanthika Bhagiratha Apartments,Matrusri Nagar,Miyapur,Hyd.\")"
   ]
  },
  {
   "cell_type": "code",
   "execution_count": 2,
   "metadata": {},
   "outputs": [
    {
     "name": "stdout",
     "output_type": "stream",
     "text": [
      "Enter your name: Sirisha\n",
      "Hello Sirisha\n"
     ]
    }
   ],
   "source": [
    "name=input(\"Enter your name: \")\n",
    "print(\"Hello\",name)"
   ]
  },
  {
   "cell_type": "code",
   "execution_count": 7,
   "metadata": {},
   "outputs": [
    {
     "name": "stdout",
     "output_type": "stream",
     "text": [
      "Enter length of room in metres: 10.08\n",
      "Enter width of room in metres: 2.05\n",
      "Area of the room is 20.66 square metres\n"
     ]
    }
   ],
   "source": [
    "length=float(input(\"Enter length of room in metres: \"))\n",
    "width=float(input(\"Enter width of room in metres: \"))\n",
    "area=length*width\n",
    "print(\"Area of the room is\",\"%.2f\"%area,\"square metres\")"
   ]
  },
  {
   "cell_type": "code",
   "execution_count": 8,
   "metadata": {},
   "outputs": [
    {
     "name": "stdout",
     "output_type": "stream",
     "text": [
      "Enter length of field: 10000\n",
      "Enter width of field: 8000\n",
      "Area= 1836.5472910927456\n"
     ]
    }
   ],
   "source": [
    "length=int(input(\"Enter length of field: \"))\n",
    "width=int(input(\"Enter width of field: \"))\n",
    "a=length*width\n",
    "area=a/43560\n",
    "print(\"Area=\",area)"
   ]
  },
  {
   "cell_type": "code",
   "execution_count": 9,
   "metadata": {},
   "outputs": [
    {
     "name": "stdout",
     "output_type": "stream",
     "text": [
      "No of containers with less than or equal to 1 litre: 10\n",
      "No of containers with more than 1 litre: 2\n",
      "Total refund= $1.50\n"
     ]
    }
   ],
   "source": [
    "LESS_DEPOSIT=0.10\n",
    "MORE_DEPOSIT=0.25\n",
    "l=int(input(\"No of containers with less than or equal to 1 litre: \"))\n",
    "m=int(input(\"No of containers with more than 1 litre: \"))\n",
    "r=l*LESS_DEPOSIT+m*MORE_DEPOSIT\n",
    "print(\"Total refund= $%.2f\"%r)"
   ]
  },
  {
   "cell_type": "code",
   "execution_count": 10,
   "metadata": {},
   "outputs": [
    {
     "name": "stdout",
     "output_type": "stream",
     "text": [
      "Enter cost of meal: 10000\n",
      "Tax amount=500.00 Tip amount=1800.00 Grand total=2300.00\n"
     ]
    }
   ],
   "source": [
    "c=int(input(\"Enter cost of meal: \"))\n",
    "tax=0.05*c\n",
    "tip=0.18*c\n",
    "print(\"Tax amount=%.2f\"%tax,\"Tip amount=%.2f\"%tip,\"Grand total=%.2f\"%(tax+tip))"
   ]
  },
  {
   "cell_type": "code",
   "execution_count": 11,
   "metadata": {},
   "outputs": [
    {
     "name": "stdout",
     "output_type": "stream",
     "text": [
      "Enter no: 8\n",
      "36.0\n"
     ]
    }
   ],
   "source": [
    "n=int(input(\"Enter no: \"))\n",
    "sum=n*(n+1)/2\n",
    "print(sum)"
   ]
  },
  {
   "cell_type": "code",
   "execution_count": 12,
   "metadata": {},
   "outputs": [
    {
     "name": "stdout",
     "output_type": "stream",
     "text": [
      "Enter no of widgets: 5\n",
      "Enter no of gizmos: 8\n",
      "Weight of widgets= 375\n",
      "Weight of gizmos=  896\n"
     ]
    }
   ],
   "source": [
    "w=int(input(\"Enter no of widgets: \"))\n",
    "g=int(input(\"Enter no of gizmos: \"))\n",
    "a=w*75\n",
    "b=g*112\n",
    "print(\"Weight of widgets=\",a)\n",
    "print(\"Weight of gizmos= \",b)"
   ]
  },
  {
   "cell_type": "code",
   "execution_count": 14,
   "metadata": {},
   "outputs": [
    {
     "name": "stdout",
     "output_type": "stream",
     "text": [
      "Enter money: 10000000\n",
      "Money after 1 year=10400000.00\n",
      "Money after 2 year=10816000.00\n",
      "Money after 3 year=11248640.00\n"
     ]
    }
   ],
   "source": [
    "m=int(input(\"Enter money: \"))\n",
    "a1=m+(0.04*m)\n",
    "a2=a1+(0.04*a1)\n",
    "a3=a2+(0.04*a2)\n",
    "print(\"Money after 1 year=%.2f\"%a1)\n",
    "print(\"Money after 2 year=%.2f\"%a2)\n",
    "print(\"Money after 3 year=%.2f\"%a3)"
   ]
  },
  {
   "cell_type": "code",
   "execution_count": 16,
   "metadata": {},
   "outputs": [
    {
     "name": "stdout",
     "output_type": "stream",
     "text": [
      "Enter no: 20\n",
      "Enter no: 10\n",
      "Sum=  30\n",
      "Diff=  -10\n",
      "Product=  200\n",
      "Quotient=  2.0\n",
      "Rem=  0\n",
      "log=  1.3010299956639813\n",
      "Power=  10240000000000.0\n"
     ]
    }
   ],
   "source": [
    "import math\n",
    "a=int(input(\"Enter no: \"))\n",
    "b=int(input(\"Enter no: \"))\n",
    "print(\"Sum= \",a+b)\n",
    "print(\"Diff= \",b-a)\n",
    "print(\"Product= \",a*b)\n",
    "print(\"Quotient= \",a/b)\n",
    "print(\"Rem= \",a%b)\n",
    "print(\"log= \",math.log10(a))\n",
    "print(\"Power= \",math.pow(a,b))"
   ]
  },
  {
   "cell_type": "code",
   "execution_count": 19,
   "metadata": {},
   "outputs": [
    {
     "name": "stdout",
     "output_type": "stream",
     "text": [
      "Enter fuel efficiency: 50.56\n",
      "Fuel eff in canada:  11892.4704\n"
     ]
    }
   ],
   "source": [
    "a=float(input(\"Enter fuel efficiency: \"))\n",
    "c=a*235.215\n",
    "print(\"Fuel eff in canada: \",c)"
   ]
  },
  {
   "cell_type": "code",
   "execution_count": 20,
   "metadata": {},
   "outputs": [
    {
     "name": "stdout",
     "output_type": "stream",
     "text": [
      "Enter height in feet: 6\n",
      "Enter height in inches: 45\n",
      "Height in cm=  297.18\n"
     ]
    }
   ],
   "source": [
    "f=int(input(\"Enter height in feet: \"))\n",
    "i=int(input(\"Enter height in inches: \"))\n",
    "cm=float((f*12)+i)*2.54\n",
    "print(\"Height in cm= \",cm)"
   ]
  },
  {
   "cell_type": "code",
   "execution_count": 21,
   "metadata": {},
   "outputs": [
    {
     "name": "stdout",
     "output_type": "stream",
     "text": [
      "Enter distance in feet: 500\n",
      "Distance in inches:  41.666666666666664\n",
      "Distance in yards:  166.66666666666666\n",
      "Distance in miles:  0.0946969696969697\n"
     ]
    }
   ],
   "source": [
    "f=int(input(\"Enter distance in feet: \"))\n",
    "i=f/12\n",
    "y=f/3\n",
    "m=f/5280\n",
    "print(\"Distance in inches: \",i)\n",
    "print(\"Distance in yards: \",y)\n",
    "print(\"Distance in miles: \",m)"
   ]
  },
  {
   "cell_type": "code",
   "execution_count": 23,
   "metadata": {},
   "outputs": [
    {
     "name": "stdout",
     "output_type": "stream",
     "text": [
      "Enter radius: 10\n",
      "Area of circle:  314.1592653589793\n",
      "Volume of sphere:  4188.790204786391\n"
     ]
    }
   ],
   "source": [
    "import math\n",
    "r=int(input(\"Enter radius: \"))\n",
    "a=math.pi*r*r\n",
    "v=(4*math.pi*r*r*r)/3\n",
    "print(\"Area of circle: \",a)\n",
    "print(\"Volume of sphere: \",v)"
   ]
  },
  {
   "cell_type": "code",
   "execution_count": 24,
   "metadata": {},
   "outputs": [
    {
     "name": "stdout",
     "output_type": "stream",
     "text": [
      "Enter mass in grams: 56.98\n",
      "Enter temp: 20.75\n",
      "Amount of energy=4949.25\n",
      "Cost=0.01\n"
     ]
    }
   ],
   "source": [
    "m=float(input(\"Enter mass in grams: \"))\n",
    "T=float(input(\"Enter temp: \"))\n",
    "q=m*4.186*T\n",
    "print(\"Amount of energy=%.2f\"%q)\n",
    "kwh=q*2.777e-7\n",
    "c=kwh*8.9\n",
    "print(\"Cost=%.2f\"%c)"
   ]
  },
  {
   "cell_type": "code",
   "execution_count": 25,
   "metadata": {},
   "outputs": [
    {
     "name": "stdout",
     "output_type": "stream",
     "text": [
      "Enter radius: 8\n",
      "Enter height: 9\n",
      "Volume of cylinder=1809.6\n"
     ]
    }
   ],
   "source": [
    "from math import pi\n",
    "r=int(input(\"Enter radius: \"))\n",
    "h=int(input(\"Enter height: \"))\n",
    "v=pi*r*r*h\n",
    "print(\"Volume of cylinder=%.1f\"%v)"
   ]
  },
  {
   "cell_type": "code",
   "execution_count": 26,
   "metadata": {},
   "outputs": [
    {
     "name": "stdout",
     "output_type": "stream",
     "text": [
      "Enter height in metres: 78.90\n",
      "Final velocity:39.32\n"
     ]
    }
   ],
   "source": [
    "from math import sqrt\n",
    "s=float(input(\"Enter height in metres: \"))\n",
    "v=sqrt(2*9.8*s)\n",
    "print(\"Final velocity:%.2f\"%v)"
   ]
  },
  {
   "cell_type": "code",
   "execution_count": 31,
   "metadata": {},
   "outputs": [
    {
     "name": "stdout",
     "output_type": "stream",
     "text": [
      "No of moles of gas:  8462352658.166946\n"
     ]
    }
   ],
   "source": [
    "P=20000000\n",
    "V=12\n",
    "R=8.314\n",
    "T=293.15\n",
    "n=(float(P*V))/R*T\n",
    "print(\"No of moles of gas: \",n)"
   ]
  },
  {
   "cell_type": "code",
   "execution_count": 32,
   "metadata": {},
   "outputs": [
    {
     "name": "stdout",
     "output_type": "stream",
     "text": [
      "Enter base of triangle: 20\n",
      "Enter height of triangle: 5\n",
      "Area of triangle:  50.0\n"
     ]
    }
   ],
   "source": [
    "b=int(input(\"Enter base of triangle: \"))\n",
    "h=int(input(\"Enter height of triangle: \"))\n",
    "a=b*h/2\n",
    "print(\"Area of triangle: \",a)"
   ]
  },
  {
   "cell_type": "code",
   "execution_count": 33,
   "metadata": {},
   "outputs": [
    {
     "name": "stdout",
     "output_type": "stream",
     "text": [
      "Enter side1: 20\n",
      "Enter side2: 30\n",
      "Enter side3: 50\n",
      "Area of triangle:  2154.210992451761\n"
     ]
    }
   ],
   "source": [
    "from math import sqrt\n",
    "s1=int(input(\"Enter side1: \"))\n",
    "s2=int(input(\"Enter side2: \"))\n",
    "s3=int(input(\"Enter side3: \"))\n",
    "s=s1+s2+s3/2\n",
    "a=sqrt(s*(s-s1)*(s-s2)*(s-s3))\n",
    "print(\"Area of triangle: \",a)"
   ]
  },
  {
   "cell_type": "code",
   "execution_count": 34,
   "metadata": {},
   "outputs": [
    {
     "name": "stdout",
     "output_type": "stream",
     "text": [
      "Enter no of days: 36\n",
      "Enter no of hours: 8\n",
      "Enter no of minutes: 32\n",
      "Enter no of seconds: 50\n",
      "Total no of sec:  3141170\n"
     ]
    }
   ],
   "source": [
    "d=int(input(\"Enter no of days: \"))\n",
    "h=int(input(\"Enter no of hours: \"))\n",
    "m=int(input(\"Enter no of minutes: \"))\n",
    "s=int(input(\"Enter no of seconds: \"))\n",
    "t=(((d*24+h)*60+m)*60+s)\n",
    "print(\"Total no of sec: \",t)"
   ]
  },
  {
   "cell_type": "code",
   "execution_count": 39,
   "metadata": {},
   "outputs": [
    {
     "name": "stdout",
     "output_type": "stream",
     "text": [
      "Current time and date:  Mon Aug 22 20:44:25 2022\n"
     ]
    }
   ],
   "source": [
    "import time\n",
    "t=time.asctime()\n",
    "print(\"Current time and date: \",str(t))\n"
   ]
  },
  {
   "cell_type": "code",
   "execution_count": 41,
   "metadata": {},
   "outputs": [
    {
     "name": "stdout",
     "output_type": "stream",
     "text": [
      "Enter weight in kgs: 70\n",
      "Enter height in m: 40\n",
      "Body mass index=  0.04375\n"
     ]
    }
   ],
   "source": [
    "w=int(input(\"Enter weight in kgs: \"))\n",
    "h=int(input(\"Enter height in m: \"))\n",
    "bmi=w/(h*h)\n",
    "print(\"Body mass index= \",bmi)"
   ]
  },
  {
   "cell_type": "code",
   "execution_count": 42,
   "metadata": {},
   "outputs": [
    {
     "name": "stdout",
     "output_type": "stream",
     "text": [
      "Enter temp in celsius: 67.85\n",
      "Temp in fahrenheit:154.13\n",
      "Temp in kelvin:341.00\n"
     ]
    }
   ],
   "source": [
    "c=float(input(\"Enter temp in celsius: \"))\n",
    "f=(c*1.8)+32\n",
    "k=c+273.15\n",
    "print(\"Temp in fahrenheit:%.2f\"%f)\n",
    "print(\"Temp in kelvin:%.2f\"%k)"
   ]
  },
  {
   "cell_type": "code",
   "execution_count": 44,
   "metadata": {},
   "outputs": [
    {
     "name": "stdout",
     "output_type": "stream",
     "text": [
      "Enter no: 3141\n",
      "Sum of digits:  9\n"
     ]
    }
   ],
   "source": [
    "n=int(input(\"Enter no: \"))\n",
    "sum=0\n",
    "while(n>0):\n",
    "    r=n%10\n",
    "    sum=sum+r\n",
    "    n=n//10\n",
    "print(\"Sum of digits: \",sum)"
   ]
  },
  {
   "cell_type": "code",
   "execution_count": 46,
   "metadata": {},
   "outputs": [
    {
     "name": "stdout",
     "output_type": "stream",
     "text": [
      "Enter no1: 56\n",
      "Enter no2: 32\n",
      "Enter no3: 14\n",
      "Sorted order:  14 32 56\n"
     ]
    }
   ],
   "source": [
    "\n",
    "n1=int(input(\"Enter no1: \"))\n",
    "n2=int(input(\"Enter no2: \"))\n",
    "n3=int(input(\"Enter no3: \"))\n",
    "s=min(n1,n2,n3)\n",
    "l=max(n1,n2,n3)\n",
    "m=(n1+n2+n3)-(s+l)\n",
    "print(\"Sorted order: \",s,m,l)"
   ]
  },
  {
   "cell_type": "code",
   "execution_count": 48,
   "metadata": {},
   "outputs": [
    {
     "name": "stdout",
     "output_type": "stream",
     "text": [
      "Enter no of loaves of bread: 45\n",
      "Regular price:157.05\n",
      "Discount:94.23\n",
      "Total price:62.82\n"
     ]
    }
   ],
   "source": [
    "BREAD_PRICE=3.49\n",
    "DISCOUNT_RATE=0.60\n",
    "n=int(input(\"Enter no of loaves of bread: \"))\n",
    "r=float(n)*3.49\n",
    "d=r*0.60\n",
    "t=r-d\n",
    "print(\"Regular price:%.2f\"%r)\n",
    "print(\"Discount:%.2f\"%d)\n",
    "print(\"Total price:%.2f\"%t)"
   ]
  },
  {
   "cell_type": "code",
   "execution_count": null,
   "metadata": {},
   "outputs": [],
   "source": []
  }
 ],
 "metadata": {
  "kernelspec": {
   "display_name": "Python 3",
   "language": "python",
   "name": "python3"
  },
  "language_info": {
   "codemirror_mode": {
    "name": "ipython",
    "version": 3
   },
   "file_extension": ".py",
   "mimetype": "text/x-python",
   "name": "python",
   "nbconvert_exporter": "python",
   "pygments_lexer": "ipython3",
   "version": "3.8.3"
  }
 },
 "nbformat": 4,
 "nbformat_minor": 4
}
