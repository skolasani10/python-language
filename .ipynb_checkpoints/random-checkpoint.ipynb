{
 "cells": [
  {
   "cell_type": "code",
   "execution_count": 4,
   "metadata": {},
   "outputs": [
    {
     "name": "stdout",
     "output_type": "stream",
     "text": [
      "5\n"
     ]
    }
   ],
   "source": [
    "import random\n",
    "print(random.randint(1,6))"
   ]
  },
  {
   "cell_type": "code",
   "execution_count": 13,
   "metadata": {},
   "outputs": [
    {
     "name": "stdout",
     "output_type": "stream",
     "text": [
      "False\n"
     ]
    }
   ],
   "source": [
    "import random\n",
    "x=(random.choice([True,False]))\n",
    "print(x)"
   ]
  },
  {
   "cell_type": "code",
   "execution_count": 16,
   "metadata": {},
   "outputs": [
    {
     "name": "stdout",
     "output_type": "stream",
     "text": [
      "v}te3_U\n"
     ]
    }
   ],
   "source": [
    "from random import randint\n",
    "def random():\n",
    "    n=randint(7,10)\n",
    "    result=\"\"\n",
    "    for i in range(n):\n",
    "        c=chr(randint(33,126))\n",
    "        result+=c\n",
    "    return result\n",
    "def main():\n",
    "    print(random())\n",
    "if __name__==\"__main__\":\n",
    "    main()"
   ]
  },
  {
   "cell_type": "code",
   "execution_count": 6,
   "metadata": {},
   "outputs": [
    {
     "name": "stdout",
     "output_type": "stream",
     "text": [
      "6856idb\n"
     ]
    }
   ],
   "source": [
    "import random\n",
    "def random_licenseplate():\n",
    "    result=\"\"\n",
    "    y=random.randint(0,1)\n",
    "    if y==0:\n",
    "        #Old license plate\n",
    "        for i in range(3):\n",
    "            x=random.randint(0,1)\n",
    "            if x==0:\n",
    "                c=chr(random.randint(97,122))\n",
    "                result+=c\n",
    "            else:\n",
    "                d=chr(random.randint(65,90))\n",
    "                result+=d\n",
    "        for i in range(3):\n",
    "            e=str(random.randint(0,9))\n",
    "            result+=e\n",
    "    else:\n",
    "       #New license plate\n",
    "        for i in range(4):\n",
    "            f=str(random.randint(0,9))\n",
    "            result+=f\n",
    "        for i in range(3):\n",
    "            g=random.randint(0,1)\n",
    "            if g==0:\n",
    "                h=chr(random.randint(97,122))\n",
    "                result+=h\n",
    "            else:\n",
    "                r=chr(random.randint(65,90))\n",
    "                result+=r\n",
    "    return result\n",
    "def main():\n",
    "    print(random_licenseplate())\n",
    "if __name__==\"__main__\":\n",
    "    main()"
   ]
  },
  {
   "cell_type": "code",
   "execution_count": 3,
   "metadata": {},
   "outputs": [
    {
     "data": {
      "text/plain": [
       "122"
      ]
     },
     "execution_count": 3,
     "metadata": {},
     "output_type": "execute_result"
    }
   ],
   "source": [
    "ord('z')"
   ]
  },
  {
   "cell_type": "code",
   "execution_count": 9,
   "metadata": {},
   "outputs": [
    {
     "name": "stdout",
     "output_type": "stream",
     "text": [
      "IFN627\n"
     ]
    }
   ],
   "source": [
    "import random\n",
    "def get_randomchar():\n",
    "    x=random.randint(0,1)\n",
    "    if x==0:\n",
    "        c=chr(random.randint(97,122))\n",
    "        return c\n",
    "    else:\n",
    "        d=chr(random.randint(65,90))\n",
    "        return d\n",
    "def get_randomdigit():\n",
    "    e=str(random.randint(0,9))\n",
    "    return e\n",
    "def random_licenseplate():\n",
    "    result=\"\"\n",
    "    y=random.randint(0,1)\n",
    "    if y==0:\n",
    "        #Old license plate\n",
    "        for i in range(3):\n",
    "            get_randomchar()\n",
    "            result+=get_randomchar()\n",
    "        for i in range(3):\n",
    "            get_randomdigit()\n",
    "            result+=get_randomdigit()\n",
    "    else:\n",
    "       #New license plate\n",
    "        for i in range(4):\n",
    "            get_randomdigit()\n",
    "            result+=get_randomdigit()\n",
    "        for i in range(3):\n",
    "            get_randomchar()\n",
    "            result+=get_randomchar()\n",
    "    return result\n",
    "def main():\n",
    "    print(random_licenseplate())\n",
    "if __name__==\"__main__\":\n",
    "    main()"
   ]
  },
  {
   "cell_type": "code",
   "execution_count": null,
   "metadata": {},
   "outputs": [],
   "source": []
  }
 ],
 "metadata": {
  "kernelspec": {
   "display_name": "Python 3",
   "language": "python",
   "name": "python3"
  },
  "language_info": {
   "codemirror_mode": {
    "name": "ipython",
    "version": 3
   },
   "file_extension": ".py",
   "mimetype": "text/x-python",
   "name": "python",
   "nbconvert_exporter": "python",
   "pygments_lexer": "ipython3",
   "version": "3.8.3"
  }
 },
 "nbformat": 4,
 "nbformat_minor": 4
}
