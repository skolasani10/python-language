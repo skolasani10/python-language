{
 "cells": [
  {
   "cell_type": "code",
   "execution_count": 1,
   "metadata": {},
   "outputs": [
    {
     "name": "stdout",
     "output_type": "stream",
     "text": [
      "Enter no: 67\n",
      "The no is odd\n"
     ]
    }
   ],
   "source": [
    "n=int(input(\"Enter no: \"))\n",
    "if n%2==0:\n",
    "    print(\"The no is even\")\n",
    "else:\n",
    "    print(\"The no is odd\")"
   ]
  },
  {
   "cell_type": "code",
   "execution_count": 2,
   "metadata": {},
   "outputs": [
    {
     "name": "stdout",
     "output_type": "stream",
     "text": [
      "Enter a letter: o\n",
      "It is a vowel\n"
     ]
    }
   ],
   "source": [
    "l=input(\"Enter a letter: \")\n",
    "if l=='a' or l=='e' or l=='i' or l=='o' or l=='u':\n",
    "    print(\"It is a vowel\")\n",
    "elif l=='y':\n",
    "    print(\"Sometimes its a vowel.. and sometimes its a consonant.\")\n",
    "else:\n",
    "    print(\"It is a consonant\")"
   ]
  },
  {
   "cell_type": "code",
   "execution_count": 3,
   "metadata": {},
   "outputs": [
    {
     "name": "stdout",
     "output_type": "stream",
     "text": [
      "Enter no of sides: 6\n",
      "Hexagon\n"
     ]
    }
   ],
   "source": [
    "n=int(input(\"Enter no of sides: \"))\n",
    "if n==3:\n",
    "    print(\"Triangle\")\n",
    "elif n==4:\n",
    "    print(\"Quadrilateral\")\n",
    "elif n==5:\n",
    "    print(\"Pentagon\")\n",
    "elif n==6:\n",
    "    print(\"Hexagon\")\n",
    "elif n==7:\n",
    "    print(\"Heptagon\")\n",
    "elif n==8:\n",
    "    print(\"Octagon\")\n",
    "elif n==9:\n",
    "    print(\"Nonagon\")\n",
    "elif n==10:\n",
    "    print(\"Decagon\")\n",
    "else:\n",
    "    print(\"Error\")"
   ]
  },
  {
   "cell_type": "code",
   "execution_count": 6,
   "metadata": {},
   "outputs": [
    {
     "name": "stdout",
     "output_type": "stream",
     "text": [
      "Enter name of month: Feb\n",
      "28 or 29 days\n"
     ]
    }
   ],
   "source": [
    "month=input(\"Enter name of month: \")\n",
    "if month=='Jan' or month=='Mar' or month=='May' or month=='July' or month=='Aug' or month=='Oct' or month=='Dec':\n",
    "    print(\"31 days\")\n",
    "elif month=='Feb':\n",
    "    print(\"28 or 29 days\")\n",
    "else:\n",
    "    print(\"30 days\")"
   ]
  },
  {
   "cell_type": "code",
   "execution_count": 7,
   "metadata": {},
   "outputs": [
    {
     "name": "stdout",
     "output_type": "stream",
     "text": [
      "Enter the decibel level: 98\n",
      "In between alarm clock and Gas Lawnmower\n"
     ]
    }
   ],
   "source": [
    "slevel=int(input(\"Enter the decibel level: \"))\n",
    "if slevel<40:\n",
    "    print(\"Error\")\n",
    "elif slevel==40:\n",
    "    print(\"Queit room\")\n",
    "elif slevel>40 and slevel<70:\n",
    "    print(\"In between quiet room and alarm clock\")\n",
    "elif slevel==70:\n",
    "    print(\"Alarm clock\")\n",
    "elif slevel>70 and slevel<106:\n",
    "    print(\"In between alarm clock and Gas Lawnmower\")\n",
    "elif slevel==106:\n",
    "    print(\"Gas Lawnmower\")\n",
    "elif slevel>106 and slevel<130:\n",
    "    print(\"In between Gas Lawnmower and Jackhammer\")\n",
    "elif slevel==130:\n",
    "    print(\"Jackhammer\")\n",
    "elif slevel>130:\n",
    "    print(\"Error\")"
   ]
  },
  {
   "cell_type": "code",
   "execution_count": 11,
   "metadata": {},
   "outputs": [
    {
     "name": "stdout",
     "output_type": "stream",
     "text": [
      "Enter length of side1: 10\n",
      "Enter length of side2: 20\n",
      "Enter length of side3: 10\n",
      "Isosceles triangle\n"
     ]
    }
   ],
   "source": [
    "l1=int(input(\"Enter length of side1: \"))\n",
    "l2=int(input(\"Enter length of side2: \"))\n",
    "l3=int(input(\"Enter length of side3: \"))\n",
    "if l1==l2 and l2==l3:\n",
    "    print(\"Equilateral triangle\")\n",
    "elif l1==l2 or l2==l3 or l3==l1:\n",
    "    print(\"Isosceles triangle\")\n",
    "else:\n",
    "    print(\"Scalene triangle\")"
   ]
  },
  {
   "cell_type": "code",
   "execution_count": 12,
   "metadata": {},
   "outputs": [
    {
     "name": "stdout",
     "output_type": "stream",
     "text": [
      "Enter frequency: 293.66\n",
      "D4\n"
     ]
    }
   ],
   "source": [
    "f=float(input(\"Enter frequency: \"))\n",
    "if f== 261.63:\n",
    "    print(\"C4\")\n",
    "elif f==293.66:\n",
    "    print(\"D4\")\n",
    "elif f== 329.63:\n",
    "    print(\"E4\")\n",
    "elif f== 349.23:\n",
    "    print(\"F4\")\n",
    "elif f==392.00:\n",
    "    print(\"G4\")\n",
    "elif f==440.00:\n",
    "    print(\"A4\")\n",
    "elif f== 493.88:\n",
    "    print(\"B4\")"
   ]
  },
  {
   "cell_type": "code",
   "execution_count": 13,
   "metadata": {},
   "outputs": [
    {
     "name": "stdout",
     "output_type": "stream",
     "text": [
      "Enter amount: 20\n",
      "Andrew Jackson\n"
     ]
    }
   ],
   "source": [
    "a=int(input(\"Enter amount: \"))\n",
    "if a==1:\n",
    "    print(\"George Washington\")\n",
    "elif a==2:\n",
    "    print(\"Thomas Jefferson\")\n",
    "elif a==5:\n",
    "    print(\"Abraham Lincoln\")\n",
    "elif a==10:\n",
    "    print(\"Alexander Hamilton\")\n",
    "elif a==20:\n",
    "    print(\"Andrew Jackson\")\n",
    "elif a==50:\n",
    "    print(\"Ulysses S. Grant\")\n",
    "elif a==100:\n",
    "    print(\"Benjamin Franklin\")\n",
    "else:\n",
    "    print(\"Error\")"
   ]
  },
  {
   "cell_type": "code",
   "execution_count": 26,
   "metadata": {},
   "outputs": [
    {
     "name": "stdout",
     "output_type": "stream",
     "text": [
      "Enter position of chessboard: d5\n",
      "white\n"
     ]
    }
   ],
   "source": [
    "p=input(\"Enter position of chessboard: \")\n",
    "if p[0]=='a' or p[0]=='c' or p[0]=='e' or p[0]=='g':\n",
    "    if int(p[1])%2==0:\n",
    "        print(\"white\")\n",
    "    else:\n",
    "        print(\"black\")\n",
    "else:\n",
    "    if int(p[1])%2==0:\n",
    "        print(\"black\")\n",
    "    else:\n",
    "        print(\"white\")\n"
   ]
  },
  {
   "cell_type": "code",
   "execution_count": 30,
   "metadata": {},
   "outputs": [
    {
     "name": "stdout",
     "output_type": "stream",
     "text": [
      "Enter month: Sep\n",
      "Enter day: 17\n",
      "Summer\n"
     ]
    }
   ],
   "source": [
    "month=input(\"Enter month: \")\n",
    "day=int(input(\"Enter day: \"))\n",
    "if month=='Jan' or month=='Feb':\n",
    "    print(\"Winter\")\n",
    "elif month=='Mar':\n",
    "    if day<20:\n",
    "        print(\"Winter\")\n",
    "    else:\n",
    "        print(\"Spring\")\n",
    "elif month=='Apr' or month=='May':\n",
    "    print(\"Spring\")\n",
    "elif month=='June':\n",
    "    if day<21:\n",
    "        print(\"Spring\")\n",
    "    else:\n",
    "        print(\"Summer\")\n",
    "elif month=='July' or month=='Aug':\n",
    "    print(\"Summer\")\n",
    "elif month=='Sep':\n",
    "    if day<22:\n",
    "        print(\"Summer\")\n",
    "    else:\n",
    "        print(\"Fall\")\n",
    "elif month=='Oct' or month=='Nov':\n",
    "    print(\"Fall\")\n",
    "elif month=='Dec':\n",
    "    if day<21:\n",
    "        print(\"Fall\")\n",
    "    else:\n",
    "        print(\"Winter\")"
   ]
  },
  {
   "cell_type": "code",
   "execution_count": 31,
   "metadata": {},
   "outputs": [
    {
     "name": "stdout",
     "output_type": "stream",
     "text": [
      "Enter month: Aug\n",
      "Enter day: 27\n",
      "Virgo\n"
     ]
    }
   ],
   "source": [
    "month=input(\"Enter month: \")\n",
    "day=int(input(\"Enter day: \"))\n",
    "if month=='Dec':\n",
    "    if day<22:\n",
    "        print(\"Sagittarius\")\n",
    "    else:\n",
    "        print(\"Capricorn\")\n",
    "elif month=='Jan':\n",
    "    if day<20:\n",
    "        print(\"Capricorn\")\n",
    "    else:\n",
    "        print(\"Aquarius\")\n",
    "elif month=='Feb':\n",
    "    if day<19:\n",
    "        print(\"Aquarius\")\n",
    "    else:\n",
    "        print(\"Pisces\")\n",
    "elif month=='Mar':\n",
    "    if day<21:\n",
    "        print(\"Pisces\")\n",
    "    else:\n",
    "        print(\"Aries\")\n",
    "elif month=='Apr':\n",
    "    if day<20:\n",
    "        print(\"Aries\")\n",
    "    else:\n",
    "        print(\"Taurus\")\n",
    "elif month=='May':\n",
    "    if day<21:\n",
    "        print(\"Taurus\")\n",
    "    else:\n",
    "        print(\"Gemini\")\n",
    "elif month=='June':\n",
    "    if day<21:\n",
    "        print(\"Gemini\")\n",
    "    else:\n",
    "        print(\"Cancer\")\n",
    "elif month=='July':\n",
    "    if day<23:\n",
    "        print(\"Cancer\")\n",
    "    else:\n",
    "        print(\"Leo\")\n",
    "elif month=='Aug':\n",
    "    if day<23:\n",
    "        print(\"Leo\")\n",
    "    else:\n",
    "        print(\"Virgo\")\n",
    "elif month=='Sep':\n",
    "    if day<23:\n",
    "        print(\"Virgo\")\n",
    "    else:\n",
    "        print(\"Libra\")\n",
    "elif month=='Oct':\n",
    "    if day<23:\n",
    "        print(\"Libra\")\n",
    "    else:\n",
    "        print(\"Scorpio\")\n",
    "elif month=='Nov':\n",
    "    if day<22:\n",
    "        print(\"Scorpio\")\n",
    "    else:\n",
    "        print(\"Sagittarius\")"
   ]
  },
  {
   "cell_type": "code",
   "execution_count": 33,
   "metadata": {},
   "outputs": [
    {
     "name": "stdout",
     "output_type": "stream",
     "text": [
      "ENter year: 1967\n",
      "Sheep\n"
     ]
    }
   ],
   "source": [
    "year=int(input(\"ENter year: \"))\n",
    "if year%12==0:\n",
    "    print(\"Monkey\")\n",
    "elif year%12==1:\n",
    "    print(\"Rooster\")\n",
    "elif year%12==2:\n",
    "    print(\"Dog\")\n",
    "elif year%12==3:\n",
    "    print(\"Pig\")\n",
    "elif year%12==4:\n",
    "    print(\"Rat\")\n",
    "elif year%12==5:\n",
    "    print(\"Ox\")\n",
    "elif year%12==6:\n",
    "    print(\"Tiger\")\n",
    "elif year%12==7:\n",
    "    print(\"Hare\")\n",
    "elif year%12==8:\n",
    "    print(\"Dragon\")\n",
    "elif year%12==9:\n",
    "    print(\"Snake\")\n",
    "elif year%12==10:\n",
    "    print(\"Horse\")\n",
    "elif year%12==11:\n",
    "    print(\"Sheep\")"
   ]
  },
  {
   "cell_type": "code",
   "execution_count": 35,
   "metadata": {},
   "outputs": [
    {
     "name": "stdout",
     "output_type": "stream",
     "text": [
      "Enter magnitude: 7.8\n",
      "Major\n"
     ]
    }
   ],
   "source": [
    "mag=float(input(\"Enter magnitude: \"))\n",
    "if mag<2.0:\n",
    "    print(\"Micro\")\n",
    "elif mag>=2.0 and mag<3.0:\n",
    "    print(\"Very Minor\")\n",
    "elif mag>=3.0 and mag<4.0:\n",
    "    print(\"Minor\")\n",
    "elif mag>=4.0 and mag<5.0:\n",
    "    print(\"Light\")\n",
    "elif mag>=5.0 and mag<6.0:\n",
    "    print(\"Moderate\")\n",
    "elif mag>=6.0 and mag<7.0:\n",
    "    print(\"Strong\")\n",
    "elif mag>=7.0 and mag<8.0:\n",
    "    print(\"Major\")\n",
    "elif mag>=8.0 and mag<10.0:\n",
    "    print(\"Great\")\n",
    "elif mag>=10.0:\n",
    "    print(\"Meteoric\")"
   ]
  },
  {
   "cell_type": "code",
   "execution_count": 36,
   "metadata": {},
   "outputs": [
    {
     "name": "stdout",
     "output_type": "stream",
     "text": [
      "Enter value of a: 7\n",
      "Enter value of b: -1\n",
      "Enter value of c: 3\n",
      "The quadratic eq has no real roots\n"
     ]
    }
   ],
   "source": [
    "from math import sqrt\n",
    "a=int(input(\"Enter value of a: \"))\n",
    "b=int(input(\"Enter value of b: \"))\n",
    "c=int(input(\"Enter value of c: \"))\n",
    "D=(b*b)-(4*a*c)\n",
    "if D<0:\n",
    "    print(\"The quadratic eq has no real roots\")\n",
    "elif D==0:\n",
    "    print(\"The eq has 1 real root\")\n",
    "    r=-b/(2*a)\n",
    "    print(\"Real root= \",r)\n",
    "else:\n",
    "    print(\"The eq has 2 real roots\")\n",
    "    r1=-b+sqrt(D)/(2*a)\n",
    "    r2=-b-sqrt(D)/(2*a)\n",
    "    print(\"Real roots= \",r1,r2)"
   ]
  },
  {
   "cell_type": "code",
   "execution_count": 37,
   "metadata": {},
   "outputs": [
    {
     "name": "stdout",
     "output_type": "stream",
     "text": [
      "Enter letter grade: C+\n",
      "2.3\n"
     ]
    }
   ],
   "source": [
    "l=input(\"Enter letter grade: \")\n",
    "if l=='A+':\n",
    "    print(\"4.0\")\n",
    "elif l=='A':\n",
    "    print(\"4.0\")\n",
    "elif l=='A-':\n",
    "    print(\"3.7\")\n",
    "elif l=='B+':\n",
    "    print(\"3.3\")\n",
    "elif l=='B':\n",
    "    print(\"3.0\")\n",
    "elif l=='B-':\n",
    "    print(\"2.7\")\n",
    "elif l=='C+':\n",
    "    print(\"2.3\")\n",
    "elif l=='C':\n",
    "    print(\"2.0\")\n",
    "elif l=='C-':\n",
    "    print(\"1.7\")\n",
    "elif l=='D+':\n",
    "    print(\"1.3\")\n",
    "elif l=='D':\n",
    "    print(\"1.0\")\n",
    "elif l=='F':\n",
    "    print(\"0\")\n",
    "else:\n",
    "    print(\"Invalid\")"
   ]
  },
  {
   "cell_type": "code",
   "execution_count": 38,
   "metadata": {},
   "outputs": [
    {
     "name": "stdout",
     "output_type": "stream",
     "text": [
      "Enter rating: 0.6\n",
      "Meritorious performance\n",
      "Raise=1440.00\n"
     ]
    }
   ],
   "source": [
    "r=float(input(\"Enter rating: \"))\n",
    "if r==0.0:\n",
    "    print(\"Unacceptable performance\")\n",
    "    print(\"Raise=%.2f\"%(r*2400.00))\n",
    "elif r==0.4:\n",
    "    print(\"Acceptable performance\")\n",
    "    print(\"Raise=%.2f\"%(r*2400.00))\n",
    "elif r>=0.6:\n",
    "    print(\"Meritorious performance\")\n",
    "    print(\"Raise=%.2f\"%(r*2400.00))\n",
    "else:\n",
    "    print(\"Invalid\")"
   ]
  },
  {
   "cell_type": "code",
   "execution_count": 39,
   "metadata": {},
   "outputs": [
    {
     "name": "stdout",
     "output_type": "stream",
     "text": [
      "Enter year: 2016\n",
      "Leap year\n"
     ]
    }
   ],
   "source": [
    "year=int(input(\"Enter year: \"))\n",
    "if year%4==0:\n",
    "    print(\"Leap year\")\n",
    "elif year%100==0:\n",
    "    print(\"Not a leap year\")\n",
    "elif year%400==0:\n",
    "    print(\"Leap year\")\n",
    "else:\n",
    "    print(\"Not a leap year\")"
   ]
  },
  {
   "cell_type": "code",
   "execution_count": 42,
   "metadata": {},
   "outputs": [
    {
     "name": "stdout",
     "output_type": "stream",
     "text": [
      "Enter year: 2019\n",
      "Enter month: 12\n",
      "Enter day: 31\n",
      "Next day=2020-1-1\n"
     ]
    }
   ],
   "source": [
    "year=int(input(\"Enter year: \"))\n",
    "if year%4==0:\n",
    "    leap_year=True\n",
    "elif year%100==0:\n",
    "    leap_year=False\n",
    "elif year%400==0:\n",
    "    leap_year=True\n",
    "else:\n",
    "    leap_year=False\n",
    "month=int(input(\"Enter month: \"))\n",
    "if month in(1,3,5,7,8,10,12):\n",
    "    month_length=31\n",
    "elif month==2:\n",
    "    if leap_year:\n",
    "        month_length=29\n",
    "    else:\n",
    "        month_length=28\n",
    "else:\n",
    "    month_length=30\n",
    "day=int(input(\"Enter day: \"))\n",
    "if day<month_length:\n",
    "    day+=1\n",
    "else:\n",
    "    day=1\n",
    "    if month==12:\n",
    "        month=1\n",
    "        year+=1\n",
    "    else:\n",
    "        month+=1\n",
    "print(\"Next day=%d-%d-%d\"%(year,month,day))"
   ]
  },
  {
   "cell_type": "code",
   "execution_count": null,
   "metadata": {},
   "outputs": [],
   "source": []
  }
 ],
 "metadata": {
  "kernelspec": {
   "display_name": "Python 3",
   "language": "python",
   "name": "python3"
  },
  "language_info": {
   "codemirror_mode": {
    "name": "ipython",
    "version": 3
   },
   "file_extension": ".py",
   "mimetype": "text/x-python",
   "name": "python",
   "nbconvert_exporter": "python",
   "pygments_lexer": "ipython3",
   "version": "3.8.3"
  }
 },
 "nbformat": 4,
 "nbformat_minor": 4
}
