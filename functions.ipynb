{
 "cells": [
  {
   "cell_type": "code",
   "execution_count": 7,
   "metadata": {},
   "outputs": [
    {
     "name": "stdout",
     "output_type": "stream",
     "text": [
      "Enter side1: 3\n",
      "Enter side2: 4\n",
      "5.0\n"
     ]
    }
   ],
   "source": [
    "import math\n",
    "def hypotenuse(s1,s2):\n",
    "    h=math.sqrt(s1**2+s2**2)\n",
    "    return h\n",
    "def main():\n",
    "    s1=int(input(\"Enter side1: \"))\n",
    "    s2=int(input(\"Enter side2: \"))\n",
    "    print(hypotenuse(s1,s2))\n",
    "if __name__==\"__main__\":\n",
    "    main()"
   ]
  },
  {
   "cell_type": "code",
   "execution_count": 15,
   "metadata": {},
   "outputs": [
    {
     "name": "stdin",
     "output_type": "stream",
     "text": [
      "Enter no1:  13\n",
      "Enter no2:  14\n",
      "Enter no3:  15\n"
     ]
    },
    {
     "name": "stdout",
     "output_type": "stream",
     "text": [
      "14\n"
     ]
    }
   ],
   "source": [
    "def median(a,b,c):\n",
    "    if(a>b):\n",
    "        if(b<c):\n",
    "            if(c>a):\n",
    "                return a\n",
    "            else:\n",
    "                return c\n",
    "        else:\n",
    "            return b\n",
    "    else:\n",
    "        if(b<c):\n",
    "            return b\n",
    "        else:\n",
    "            if(c<a):\n",
    "                return a\n",
    "            else:\n",
    "                return c\n",
    "def main():\n",
    "    a=int(input(\"Enter no1: \"))\n",
    "    b=int(input(\"Enter no2: \"))\n",
    "    c=int(input(\"Enter no3: \"))\n",
    "    print(median(a,b,c))\n",
    "if __name__==\"__main__\":\n",
    "    main()"
   ]
  },
  {
   "cell_type": "code",
   "execution_count": 12,
   "metadata": {},
   "outputs": [
    {
     "name": "stdout",
     "output_type": "stream",
     "text": [
      "Enter side1: 10\n",
      "Enter side2: 15\n",
      "Enter side3: 23\n",
      "False\n"
     ]
    }
   ],
   "source": [
    "def valid_triangle(s1,s2,s3):\n",
    "    if s1<=0 or s2<=0 or s3<=0:\n",
    "        return False\n",
    "    elif s1==s2==s3:\n",
    "        return True\n",
    "    else:\n",
    "        return False\n",
    "def main():\n",
    "    s1=int(input(\"Enter side1: \"))\n",
    "    s2=int(input(\"Enter side2: \"))\n",
    "    s3=int(input(\"Enter side3: \"))\n",
    "    print(valid_triangle(s1,s2,s3))\n",
    "if __name__==\"__main__\":\n",
    "    main()"
   ]
  },
  {
   "cell_type": "code",
   "execution_count": 10,
   "metadata": {},
   "outputs": [
    {
     "name": "stdin",
     "output_type": "stream",
     "text": [
      "Enter no:  54\n"
     ]
    },
    {
     "name": "stdout",
     "output_type": "stream",
     "text": [
      "59\n"
     ]
    }
   ],
   "source": [
    "def nextPrime2(n):\n",
    "        while True:\n",
    "            n=n+1\n",
    "            if(isPrime(n)):\n",
    "                return n\n",
    "            \n",
    "def main():\n",
    "    n=int(input(\"Enter no: \"))\n",
    "    print(nextPrime2(n))\n",
    "if __name__==\"__main__\":\n",
    "    main()"
   ]
  },
  {
   "cell_type": "code",
   "execution_count": 8,
   "metadata": {},
   "outputs": [
    {
     "name": "stdin",
     "output_type": "stream",
     "text": [
      "Enter no:  45\n"
     ]
    },
    {
     "name": "stdout",
     "output_type": "stream",
     "text": [
      "False\n"
     ]
    }
   ],
   "source": [
    "def isPrime(n):\n",
    "    for i in range(2,n):\n",
    "        if n%i==0:\n",
    "            return False\n",
    "    return True\n",
    "def main():\n",
    "    n=int(input(\"Enter no: \"))\n",
    "    print(isPrime(n))\n",
    "if __name__==\"__main__\":\n",
    "    main()"
   ]
  },
  {
   "cell_type": "code",
   "execution_count": 16,
   "metadata": {},
   "outputs": [
    {
     "name": "stdin",
     "output_type": "stream",
     "text": [
      "Enter password:  sD4tQ71p\n"
     ]
    },
    {
     "name": "stdout",
     "output_type": "stream",
     "text": [
      "True\n"
     ]
    }
   ],
   "source": [
    "def checkPassword(str):\n",
    "    has_upper=False\n",
    "    has_lower=False\n",
    "    has_no=False\n",
    "    for ch in str:\n",
    "        if ch>='A' and ch<='Z':\n",
    "            has_upper=True\n",
    "        elif ch>='a' and ch<='z':\n",
    "            has_lower=True\n",
    "        elif ch>='0' and ch<='9':\n",
    "            has_no=True\n",
    "    if(len(str)>=8 and has_upper and has_lower and has_no):\n",
    "        return True\n",
    "    else:\n",
    "        return False\n",
    "def main():\n",
    "    str=input(\"Enter password: \")\n",
    "    print(checkPassword(str))\n",
    "if __name__==\"__main__\":\n",
    "    main()"
   ]
  },
  {
   "cell_type": "code",
   "execution_count": 19,
   "metadata": {},
   "outputs": [
    {
     "name": "stdin",
     "output_type": "stream",
     "text": [
      "Enter no:  14\n"
     ]
    },
    {
     "name": "stdout",
     "output_type": "stream",
     "text": [
      "False\n"
     ]
    }
   ],
   "source": [
    "def isPerfect(n):\n",
    "    s=0\n",
    "    for i in range(1,n):\n",
    "        if n%i==0:\n",
    "            s=s+i\n",
    "    if(s==n):\n",
    "        return True\n",
    "    else:\n",
    "        return False\n",
    "def main():\n",
    "    n=int(input(\"Enter no: \"))\n",
    "    print(isPerfect(n))\n",
    "if __name__==\"__main__\":\n",
    "    main()"
   ]
  },
  {
   "cell_type": "code",
   "execution_count": 22,
   "metadata": {},
   "outputs": [
    {
     "name": "stdin",
     "output_type": "stream",
     "text": [
      "Enter string:  5%@197a\n"
     ]
    },
    {
     "name": "stdout",
     "output_type": "stream",
     "text": [
      "False\n"
     ]
    }
   ],
   "source": [
    "def isInteger(s):\n",
    "    s=s.strip()\n",
    "    if len(s)>=1 and s.isdigit():\n",
    "        return True\n",
    "    elif s[0]=='+' or s[0]=='-' and len(s)>=2 and s[1: ].isdigit():\n",
    "        return True\n",
    "    else:\n",
    "        return False\n",
    "def main():\n",
    "    s=input(\"Enter string: \")\n",
    "    print(isInteger(s))\n",
    "if __name__==\"__main__\":\n",
    "    main()"
   ]
  },
  {
   "cell_type": "code",
   "execution_count": null,
   "metadata": {},
   "outputs": [],
   "source": []
  }
 ],
 "metadata": {
  "kernelspec": {
   "display_name": "Python 3",
   "language": "python",
   "name": "python3"
  },
  "language_info": {
   "codemirror_mode": {
    "name": "ipython",
    "version": 3
   },
   "file_extension": ".py",
   "mimetype": "text/x-python",
   "name": "python",
   "nbconvert_exporter": "python",
   "pygments_lexer": "ipython3",
   "version": "3.8.3"
  }
 },
 "nbformat": 4,
 "nbformat_minor": 4
}
