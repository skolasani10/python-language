{
 "cells": [
  {
   "cell_type": "code",
   "execution_count": 7,
   "metadata": {},
   "outputs": [
    {
     "name": "stdout",
     "output_type": "stream",
     "text": [
      "Enter side1: 3\n",
      "Enter side2: 4\n",
      "5.0\n"
     ]
    }
   ],
   "source": [
    "import math\n",
    "def hypotenuse(s1,s2):\n",
    "    h=math.sqrt(s1**2+s2**2)\n",
    "    return h\n",
    "def main():\n",
    "    s1=int(input(\"Enter side1: \"))\n",
    "    s2=int(input(\"Enter side2: \"))\n",
    "    print(hypotenuse(s1,s2))\n",
    "if __name__==\"__main__\":\n",
    "    main()"
   ]
  },
  {
   "cell_type": "code",
   "execution_count": 10,
   "metadata": {},
   "outputs": [
    {
     "name": "stdout",
     "output_type": "stream",
     "text": [
      "Enter no1: 17.32\n",
      "Enter no2: 43.67\n",
      "Enter no3: 93.45\n",
      "Median=43.67\n"
     ]
    }
   ],
   "source": [
    "import statistics\n",
    "def median_cal(n1,n2,n3):\n",
    "    l=[n1,n2,n3]\n",
    "    m=statistics.median(l)\n",
    "    return m\n",
    "def main():\n",
    "    n1=float(input(\"Enter no1: \"))\n",
    "    n2=float(input(\"Enter no2: \"))\n",
    "    n3=float(input(\"Enter no3: \"))\n",
    "    print(\"Median=%.2f\"%median_cal(n1,n2,n3))\n",
    "if __name__==\"__main__\":\n",
    "    main()"
   ]
  },
  {
   "cell_type": "code",
   "execution_count": 12,
   "metadata": {},
   "outputs": [
    {
     "name": "stdout",
     "output_type": "stream",
     "text": [
      "Enter side1: 10\n",
      "Enter side2: 15\n",
      "Enter side3: 23\n",
      "False\n"
     ]
    }
   ],
   "source": [
    "def valid_triangle(s1,s2,s3):\n",
    "    if s1<=0 or s2<=0 or s3<=0:\n",
    "        return False\n",
    "    elif s1==s2==s3:\n",
    "        return True\n",
    "    else:\n",
    "        return False\n",
    "def main():\n",
    "    s1=int(input(\"Enter side1: \"))\n",
    "    s2=int(input(\"Enter side2: \"))\n",
    "    s3=int(input(\"Enter side3: \"))\n",
    "    print(valid_triangle(s1,s2,s3))\n",
    "if __name__==\"__main__\":\n",
    "    main()"
   ]
  },
  {
   "cell_type": "code",
   "execution_count": 17,
   "metadata": {},
   "outputs": [
    {
     "name": "stdout",
     "output_type": "stream",
     "text": [
      "Enter no: 13\n",
      "17\n"
     ]
    }
   ],
   "source": [
    "def nextPrime(n):\n",
    "    p=n+1\n",
    "    for i in range(2,p):\n",
    "        if p%i==0:\n",
    "            p=p+1\n",
    "        else:\n",
    "            m=p\n",
    "    return m\n",
    "def main():\n",
    "    n=int(input(\"Enter no: \"))\n",
    "    print(nextPrime(n))\n",
    "if __name__==\"__main__\":\n",
    "    main()"
   ]
  },
  {
   "cell_type": "code",
   "execution_count": null,
   "metadata": {},
   "outputs": [],
   "source": []
  }
 ],
 "metadata": {
  "kernelspec": {
   "display_name": "Python 3",
   "language": "python",
   "name": "python3"
  },
  "language_info": {
   "codemirror_mode": {
    "name": "ipython",
    "version": 3
   },
   "file_extension": ".py",
   "mimetype": "text/x-python",
   "name": "python",
   "nbconvert_exporter": "python",
   "pygments_lexer": "ipython3",
   "version": "3.8.3"
  }
 },
 "nbformat": 4,
 "nbformat_minor": 4
}
