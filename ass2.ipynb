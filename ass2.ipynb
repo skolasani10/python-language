{
 "cells": [
  {
   "cell_type": "code",
   "execution_count": 1,
   "metadata": {},
   "outputs": [
    {
     "name": "stdout",
     "output_type": "stream",
     "text": [
      "Hello sirisha\n"
     ]
    }
   ],
   "source": [
    "s=\"sirisha\"\n",
    "print(\"Hello\",s)"
   ]
  },
  {
   "cell_type": "code",
   "execution_count": 2,
   "metadata": {},
   "outputs": [
    {
     "name": "stdout",
     "output_type": "stream",
     "text": [
      "97\n"
     ]
    }
   ],
   "source": [
    "c=\"a\"\n",
    "print(ord(c))"
   ]
  },
  {
   "cell_type": "code",
   "execution_count": 8,
   "metadata": {},
   "outputs": [
    {
     "name": "stdout",
     "output_type": "stream",
     "text": [
      "olleh\n"
     ]
    }
   ],
   "source": [
    "str=\"hello\"\n",
    "s=str[::-1]\n",
    "print(s)"
   ]
  },
  {
   "cell_type": "code",
   "execution_count": 15,
   "metadata": {},
   "outputs": [],
   "source": [
    "def series(n):\n",
    "    sum=0\n",
    "    for i in range(1,n+1):\n",
    "        a=i/(i+1)\n",
    "        sum=sum+a\n",
    "    print(sum)\n",
    "    "
   ]
  },
  {
   "cell_type": "code",
   "execution_count": 16,
   "metadata": {},
   "outputs": [
    {
     "name": "stdout",
     "output_type": "stream",
     "text": [
      "3.5500000000000003\n"
     ]
    }
   ],
   "source": [
    "series(5)"
   ]
  },
  {
   "cell_type": "code",
   "execution_count": 23,
   "metadata": {},
   "outputs": [],
   "source": [
    "def multiples():\n",
    "    sum=0\n",
    "    for i in range(1,1000):\n",
    "        a=i%3\n",
    "        b=i%5\n",
    "        if(a==0 or b==0):\n",
    "            sum=sum+i\n",
    "    print(sum)"
   ]
  },
  {
   "cell_type": "code",
   "execution_count": 24,
   "metadata": {},
   "outputs": [
    {
     "name": "stdout",
     "output_type": "stream",
     "text": [
      "233168\n"
     ]
    }
   ],
   "source": [
    "multiples()"
   ]
  },
  {
   "cell_type": "code",
   "execution_count": 1,
   "metadata": {},
   "outputs": [
    {
     "name": "stdout",
     "output_type": "stream",
     "text": [
      "906609\n"
     ]
    }
   ],
   "source": [
    "i=100\n",
    "j=100\n",
    "largestpal=0\n",
    "def ispalindrome(n):\n",
    "    palindrome=str(n)\n",
    "    if(str(palindrome)==str(palindrome[::-1])):\n",
    "        return 1\n",
    "    else:\n",
    "        return 0\n",
    "for i in range(100,999):\n",
    "    for j in range(100,999):\n",
    "        if(ispalindrome(i*j)==1 and (i*j)>largestpal):\n",
    "            largestpal=i*j\n",
    "print(largestpal)"
   ]
  },
  {
   "cell_type": "code",
   "execution_count": 1,
   "metadata": {},
   "outputs": [
    {
     "name": "stdout",
     "output_type": "stream",
     "text": [
      "No of rabbits:  12.0\n",
      "No of chickens:  23.0\n"
     ]
    }
   ],
   "source": [
    "def animals():\n",
    "    heads=35\n",
    "    legs=94\n",
    "    r=(legs-2*(heads))/2\n",
    "    c=heads-r\n",
    "    print(\"No of rabbits: \",r)\n",
    "    print(\"No of chickens: \",c)\n",
    "animals()"
   ]
  },
  {
   "cell_type": "code",
   "execution_count": null,
   "metadata": {},
   "outputs": [],
   "source": []
  }
 ],
 "metadata": {
  "kernelspec": {
   "display_name": "Python 3",
   "language": "python",
   "name": "python3"
  },
  "language_info": {
   "codemirror_mode": {
    "name": "ipython",
    "version": 3
   },
   "file_extension": ".py",
   "mimetype": "text/x-python",
   "name": "python",
   "nbconvert_exporter": "python",
   "pygments_lexer": "ipython3",
   "version": "3.8.3"
  }
 },
 "nbformat": 4,
 "nbformat_minor": 4
}
