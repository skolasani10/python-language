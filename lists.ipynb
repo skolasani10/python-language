{
 "cells": [
  {
   "cell_type": "code",
   "execution_count": 6,
   "metadata": {},
   "outputs": [
    {
     "name": "stdin",
     "output_type": "stream",
     "text": [
      "Enter no:  10\n",
      "Enter no:  20\n",
      "Enter no:  30\n",
      "Enter no:  40\n",
      "Enter no:  50\n",
      "Enter no:  0\n"
     ]
    },
    {
     "name": "stdout",
     "output_type": "stream",
     "text": [
      "Average=  30\n"
     ]
    }
   ],
   "source": [
    "def average(l):\n",
    "    n=len(l)\n",
    "    s=0\n",
    "    for i in range(n):\n",
    "        s+=l[i]\n",
    "    avg=s//n\n",
    "    return avg\n",
    "def main():\n",
    "    l=[]\n",
    "    no=int(input(\"Enter no: \"))\n",
    "    l.append(no)\n",
    "    while no!=0:\n",
    "        no=int(input(\"Enter no: \"))\n",
    "        if no!=0:\n",
    "            l.append(no)\n",
    "    print(\"Average= \",average(l))\n",
    "if __name__==\"__main__\":\n",
    "    main()"
   ]
  },
  {
   "cell_type": "code",
   "execution_count": 13,
   "metadata": {},
   "outputs": [
    {
     "name": "stdin",
     "output_type": "stream",
     "text": [
      "Enter no:  12\n",
      "Enter no:  16\n",
      "Enter no:  10\n",
      "Enter no:  19\n",
      "Enter no:  28\n",
      "Enter no:  0\n"
     ]
    },
    {
     "name": "stdout",
     "output_type": "stream",
     "text": [
      "True\n"
     ]
    }
   ],
   "source": [
    "def isSorted(l):\n",
    "    n=len(l)\n",
    "    asc=des=False\n",
    "    for i in range(n-1):\n",
    "        if(l[i]>l[i+1]):\n",
    "            des=True\n",
    "    for i in range(n-1):\n",
    "        if(l[i]<l[i+1]):\n",
    "            asc=True\n",
    "    res=asc or des\n",
    "    return res\n",
    "def main():\n",
    "    l=[]\n",
    "    no=int(input(\"Enter no: \"))\n",
    "    l.append(no)\n",
    "    while no!=0:\n",
    "        no=int(input(\"Enter no: \"))\n",
    "        if no!=0:\n",
    "            l.append(no)\n",
    "    print(isSorted(l))\n",
    "if __name__==\"__main__\":\n",
    "    main()"
   ]
  },
  {
   "cell_type": "code",
   "execution_count": 22,
   "metadata": {},
   "outputs": [
    {
     "name": "stdin",
     "output_type": "stream",
     "text": [
      "Enter string:  apples\n",
      "Enter string:  oranges\n",
      "Enter string:  bananas\n",
      "Enter string:  \n"
     ]
    },
    {
     "name": "stdout",
     "output_type": "stream",
     "text": [
      "apples , oranges\n",
      "oranges and bananas\n"
     ]
    }
   ],
   "source": [
    "def formatNames(l):\n",
    "    n=len(l)\n",
    "    i=0\n",
    "    if n==1:\n",
    "        print(l[0])\n",
    "    else:\n",
    "        while i!=n-2:\n",
    "                print(l[i]+\" , \"+l[i+1])\n",
    "                i=i+1\n",
    "        print(l[i]+\" and \"+l[i+1])\n",
    "def main():\n",
    "    l=[]\n",
    "    str=input(\"Enter string: \")\n",
    "    l.append(str)\n",
    "    while str!=\"\":\n",
    "        str=input(\"Enter string: \")\n",
    "        if str!=\"\":\n",
    "            l.append(str)\n",
    "    formatNames(l)\n",
    "if __name__==\"__main__\":\n",
    "    main()"
   ]
  },
  {
   "cell_type": "code",
   "execution_count": null,
   "metadata": {},
   "outputs": [],
   "source": []
  }
 ],
 "metadata": {
  "kernelspec": {
   "display_name": "Python 3",
   "language": "python",
   "name": "python3"
  },
  "language_info": {
   "codemirror_mode": {
    "name": "ipython",
    "version": 3
   },
   "file_extension": ".py",
   "mimetype": "text/x-python",
   "name": "python",
   "nbconvert_exporter": "python",
   "pygments_lexer": "ipython3",
   "version": "3.8.3"
  }
 },
 "nbformat": 4,
 "nbformat_minor": 4
}
